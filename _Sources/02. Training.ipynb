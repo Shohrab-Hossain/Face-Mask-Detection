{
 "cells": [
  {
   "cell_type": "markdown",
   "id": "9b0cf983",
   "metadata": {
    "papermill": {
     "duration": 0.071388,
     "end_time": "2021-10-06T08:33:55.581178",
     "exception": false,
     "start_time": "2021-10-06T08:33:55.509790",
     "status": "completed"
    },
    "tags": []
   },
   "source": [
    "\n",
    "# 1. Import Libraries\n",
    "\n",
    "<br>"
   ]
  },
  {
   "cell_type": "code",
   "execution_count": 1,
   "id": "cf7417fc",
   "metadata": {
    "execution": {
     "iopub.execute_input": "2021-10-06T08:34:04.142065Z",
     "iopub.status.busy": "2021-10-06T08:34:04.141379Z",
     "iopub.status.idle": "2021-10-06T08:34:09.998307Z",
     "shell.execute_reply": "2021-10-06T08:34:09.997464Z",
     "shell.execute_reply.started": "2021-09-05T11:31:54.629547Z"
    },
    "papermill": {
     "duration": 5.932826,
     "end_time": "2021-10-06T08:34:09.998469",
     "exception": false,
     "start_time": "2021-10-06T08:34:04.065643",
     "status": "completed"
    },
    "tags": []
   },
   "outputs": [],
   "source": [
    "# Data Manipulation\n",
    "import pandas as pd\n",
    "\n",
    "# Numerical Analysis\n",
    "import numpy as np\n",
    "\n",
    "# Data Visualization\n",
    "from matplotlib import pyplot as plt\n",
    "import seaborn as sns\n",
    "\n",
    "# Operating System\n",
    "import os\n",
    "\n",
    "# Deep Learning and Object Detection\n",
    "import tensorflow as tf\n",
    "from tensorflow import keras\n",
    "import cv2\n",
    "\n",
    "# Data Extraction\n",
    "import glob\n",
    "from xml.etree import ElementTree"
   ]
  },
  {
   "cell_type": "markdown",
   "id": "66309d53",
   "metadata": {},
   "source": [
    "# 2. Reading DataFrame from Local Storage\n",
    "<br>"
   ]
  },
  {
   "cell_type": "code",
   "execution_count": 2,
   "id": "9837612c",
   "metadata": {},
   "outputs": [
    {
     "data": {
      "text/html": [
       "<div>\n",
       "<style scoped>\n",
       "    .dataframe tbody tr th:only-of-type {\n",
       "        vertical-align: middle;\n",
       "    }\n",
       "\n",
       "    .dataframe tbody tr th {\n",
       "        vertical-align: top;\n",
       "    }\n",
       "\n",
       "    .dataframe thead th {\n",
       "        text-align: right;\n",
       "    }\n",
       "</style>\n",
       "<table border=\"1\" class=\"dataframe\">\n",
       "  <thead>\n",
       "    <tr style=\"text-align: right;\">\n",
       "      <th></th>\n",
       "      <th>xmin</th>\n",
       "      <th>ymin</th>\n",
       "      <th>xmax</th>\n",
       "      <th>ymax</th>\n",
       "      <th>label</th>\n",
       "      <th>file</th>\n",
       "      <th>width</th>\n",
       "      <th>height</th>\n",
       "      <th>annotation_file</th>\n",
       "      <th>image_file</th>\n",
       "      <th>cropped_image_file</th>\n",
       "    </tr>\n",
       "  </thead>\n",
       "  <tbody>\n",
       "    <tr>\n",
       "      <th>0</th>\n",
       "      <td>79</td>\n",
       "      <td>105</td>\n",
       "      <td>109</td>\n",
       "      <td>142</td>\n",
       "      <td>without_mask</td>\n",
       "      <td>maksssksksss0</td>\n",
       "      <td>512</td>\n",
       "      <td>366</td>\n",
       "      <td>maksssksksss0.xml</td>\n",
       "      <td>maksssksksss0.png</td>\n",
       "      <td>maksssksksss0-0.png</td>\n",
       "    </tr>\n",
       "    <tr>\n",
       "      <th>1</th>\n",
       "      <td>185</td>\n",
       "      <td>100</td>\n",
       "      <td>226</td>\n",
       "      <td>144</td>\n",
       "      <td>with_mask</td>\n",
       "      <td>maksssksksss0</td>\n",
       "      <td>512</td>\n",
       "      <td>366</td>\n",
       "      <td>maksssksksss0.xml</td>\n",
       "      <td>maksssksksss0.png</td>\n",
       "      <td>maksssksksss0-1.png</td>\n",
       "    </tr>\n",
       "    <tr>\n",
       "      <th>2</th>\n",
       "      <td>325</td>\n",
       "      <td>90</td>\n",
       "      <td>360</td>\n",
       "      <td>141</td>\n",
       "      <td>without_mask</td>\n",
       "      <td>maksssksksss0</td>\n",
       "      <td>512</td>\n",
       "      <td>366</td>\n",
       "      <td>maksssksksss0.xml</td>\n",
       "      <td>maksssksksss0.png</td>\n",
       "      <td>maksssksksss0-2.png</td>\n",
       "    </tr>\n",
       "    <tr>\n",
       "      <th>3</th>\n",
       "      <td>321</td>\n",
       "      <td>34</td>\n",
       "      <td>354</td>\n",
       "      <td>69</td>\n",
       "      <td>with_mask</td>\n",
       "      <td>maksssksksss1</td>\n",
       "      <td>400</td>\n",
       "      <td>156</td>\n",
       "      <td>maksssksksss1.xml</td>\n",
       "      <td>maksssksksss1.png</td>\n",
       "      <td>maksssksksss1-3.png</td>\n",
       "    </tr>\n",
       "    <tr>\n",
       "      <th>4</th>\n",
       "      <td>224</td>\n",
       "      <td>38</td>\n",
       "      <td>261</td>\n",
       "      <td>73</td>\n",
       "      <td>with_mask</td>\n",
       "      <td>maksssksksss1</td>\n",
       "      <td>400</td>\n",
       "      <td>156</td>\n",
       "      <td>maksssksksss1.xml</td>\n",
       "      <td>maksssksksss1.png</td>\n",
       "      <td>maksssksksss1-4.png</td>\n",
       "    </tr>\n",
       "    <tr>\n",
       "      <th>...</th>\n",
       "      <td>...</td>\n",
       "      <td>...</td>\n",
       "      <td>...</td>\n",
       "      <td>...</td>\n",
       "      <td>...</td>\n",
       "      <td>...</td>\n",
       "      <td>...</td>\n",
       "      <td>...</td>\n",
       "      <td>...</td>\n",
       "      <td>...</td>\n",
       "      <td>...</td>\n",
       "    </tr>\n",
       "    <tr>\n",
       "      <th>4067</th>\n",
       "      <td>263</td>\n",
       "      <td>62</td>\n",
       "      <td>287</td>\n",
       "      <td>85</td>\n",
       "      <td>with_mask</td>\n",
       "      <td>maksssksksss98</td>\n",
       "      <td>400</td>\n",
       "      <td>267</td>\n",
       "      <td>maksssksksss98.xml</td>\n",
       "      <td>maksssksksss98.png</td>\n",
       "      <td>maksssksksss98-4067.png</td>\n",
       "    </tr>\n",
       "    <tr>\n",
       "      <th>4068</th>\n",
       "      <td>344</td>\n",
       "      <td>80</td>\n",
       "      <td>377</td>\n",
       "      <td>106</td>\n",
       "      <td>with_mask</td>\n",
       "      <td>maksssksksss98</td>\n",
       "      <td>400</td>\n",
       "      <td>267</td>\n",
       "      <td>maksssksksss98.xml</td>\n",
       "      <td>maksssksksss98.png</td>\n",
       "      <td>maksssksksss98-4068.png</td>\n",
       "    </tr>\n",
       "    <tr>\n",
       "      <th>4069</th>\n",
       "      <td>181</td>\n",
       "      <td>54</td>\n",
       "      <td>273</td>\n",
       "      <td>162</td>\n",
       "      <td>mask_incorrectly_worn</td>\n",
       "      <td>maksssksksss99</td>\n",
       "      <td>400</td>\n",
       "      <td>267</td>\n",
       "      <td>maksssksksss99.xml</td>\n",
       "      <td>maksssksksss99.png</td>\n",
       "      <td>maksssksksss99-4069.png</td>\n",
       "    </tr>\n",
       "    <tr>\n",
       "      <th>4070</th>\n",
       "      <td>99</td>\n",
       "      <td>87</td>\n",
       "      <td>176</td>\n",
       "      <td>165</td>\n",
       "      <td>with_mask</td>\n",
       "      <td>maksssksksss99</td>\n",
       "      <td>400</td>\n",
       "      <td>267</td>\n",
       "      <td>maksssksksss99.xml</td>\n",
       "      <td>maksssksksss99.png</td>\n",
       "      <td>maksssksksss99-4070.png</td>\n",
       "    </tr>\n",
       "    <tr>\n",
       "      <th>4071</th>\n",
       "      <td>289</td>\n",
       "      <td>99</td>\n",
       "      <td>355</td>\n",
       "      <td>233</td>\n",
       "      <td>with_mask</td>\n",
       "      <td>maksssksksss99</td>\n",
       "      <td>400</td>\n",
       "      <td>267</td>\n",
       "      <td>maksssksksss99.xml</td>\n",
       "      <td>maksssksksss99.png</td>\n",
       "      <td>maksssksksss99-4071.png</td>\n",
       "    </tr>\n",
       "  </tbody>\n",
       "</table>\n",
       "<p>4072 rows × 11 columns</p>\n",
       "</div>"
      ],
      "text/plain": [
       "      xmin  ymin  xmax  ymax                  label            file  width  \\\n",
       "0       79   105   109   142           without_mask   maksssksksss0    512   \n",
       "1      185   100   226   144              with_mask   maksssksksss0    512   \n",
       "2      325    90   360   141           without_mask   maksssksksss0    512   \n",
       "3      321    34   354    69              with_mask   maksssksksss1    400   \n",
       "4      224    38   261    73              with_mask   maksssksksss1    400   \n",
       "...    ...   ...   ...   ...                    ...             ...    ...   \n",
       "4067   263    62   287    85              with_mask  maksssksksss98    400   \n",
       "4068   344    80   377   106              with_mask  maksssksksss98    400   \n",
       "4069   181    54   273   162  mask_incorrectly_worn  maksssksksss99    400   \n",
       "4070    99    87   176   165              with_mask  maksssksksss99    400   \n",
       "4071   289    99   355   233              with_mask  maksssksksss99    400   \n",
       "\n",
       "      height     annotation_file          image_file       cropped_image_file  \n",
       "0        366   maksssksksss0.xml   maksssksksss0.png      maksssksksss0-0.png  \n",
       "1        366   maksssksksss0.xml   maksssksksss0.png      maksssksksss0-1.png  \n",
       "2        366   maksssksksss0.xml   maksssksksss0.png      maksssksksss0-2.png  \n",
       "3        156   maksssksksss1.xml   maksssksksss1.png      maksssksksss1-3.png  \n",
       "4        156   maksssksksss1.xml   maksssksksss1.png      maksssksksss1-4.png  \n",
       "...      ...                 ...                 ...                      ...  \n",
       "4067     267  maksssksksss98.xml  maksssksksss98.png  maksssksksss98-4067.png  \n",
       "4068     267  maksssksksss98.xml  maksssksksss98.png  maksssksksss98-4068.png  \n",
       "4069     267  maksssksksss99.xml  maksssksksss99.png  maksssksksss99-4069.png  \n",
       "4070     267  maksssksksss99.xml  maksssksksss99.png  maksssksksss99-4070.png  \n",
       "4071     267  maksssksksss99.xml  maksssksksss99.png  maksssksksss99-4071.png  \n",
       "\n",
       "[4072 rows x 11 columns]"
      ]
     },
     "execution_count": 2,
     "metadata": {},
     "output_type": "execute_result"
    }
   ],
   "source": [
    "annotations_info_df = pd.read_csv('Processed Data/annotations_info.csv')\n",
    "annotations_info_df"
   ]
  },
  {
   "cell_type": "markdown",
   "id": "176521f5",
   "metadata": {
    "papermill": {
     "duration": 0.098783,
     "end_time": "2021-10-06T08:35:41.662847",
     "exception": false,
     "start_time": "2021-10-06T08:35:41.564064",
     "status": "completed"
    },
    "tags": []
   },
   "source": [
    "# 3. Train Test Split\n",
    "\n",
    "\n",
    "\n",
    "<br>"
   ]
  },
  {
   "cell_type": "code",
   "execution_count": 3,
   "id": "b882431c",
   "metadata": {
    "execution": {
     "iopub.execute_input": "2021-10-06T08:35:41.866102Z",
     "iopub.status.busy": "2021-10-06T08:35:41.865394Z",
     "iopub.status.idle": "2021-10-06T08:35:41.868350Z",
     "shell.execute_reply": "2021-10-06T08:35:41.868803Z",
     "shell.execute_reply.started": "2021-09-05T11:33:27.646409Z"
    },
    "papermill": {
     "duration": 0.107549,
     "end_time": "2021-10-06T08:35:41.868969",
     "exception": false,
     "start_time": "2021-10-06T08:35:41.761420",
     "status": "completed"
    },
    "tags": []
   },
   "outputs": [
    {
     "data": {
      "text/plain": [
       "((3272, 11), (800, 11))"
      ]
     },
     "execution_count": 3,
     "metadata": {},
     "output_type": "execute_result"
    }
   ],
   "source": [
    "# Data Splitting\n",
    "test_df = annotations_info_df[:800]\n",
    "train_df = annotations_info_df[800:]\n",
    "\n",
    "# Check The Shape of Splitted Data (Train and Test)\n",
    "train_df.shape, test_df.shape"
   ]
  },
  {
   "cell_type": "code",
   "execution_count": 4,
   "id": "6c7e84b9",
   "metadata": {
    "execution": {
     "iopub.execute_input": "2021-10-06T08:35:42.070162Z",
     "iopub.status.busy": "2021-10-06T08:35:42.069588Z",
     "iopub.status.idle": "2021-10-06T08:35:42.084781Z",
     "shell.execute_reply": "2021-10-06T08:35:42.085226Z",
     "shell.execute_reply.started": "2021-09-05T11:33:27.662783Z"
    },
    "papermill": {
     "duration": 0.117668,
     "end_time": "2021-10-06T08:35:42.085396",
     "exception": false,
     "start_time": "2021-10-06T08:35:41.967728",
     "status": "completed"
    },
    "tags": []
   },
   "outputs": [
    {
     "data": {
      "text/html": [
       "<div>\n",
       "<style scoped>\n",
       "    .dataframe tbody tr th:only-of-type {\n",
       "        vertical-align: middle;\n",
       "    }\n",
       "\n",
       "    .dataframe tbody tr th {\n",
       "        vertical-align: top;\n",
       "    }\n",
       "\n",
       "    .dataframe thead th {\n",
       "        text-align: right;\n",
       "    }\n",
       "</style>\n",
       "<table border=\"1\" class=\"dataframe\">\n",
       "  <thead>\n",
       "    <tr style=\"text-align: right;\">\n",
       "      <th></th>\n",
       "      <th>xmin</th>\n",
       "      <th>ymin</th>\n",
       "      <th>xmax</th>\n",
       "      <th>ymax</th>\n",
       "      <th>label</th>\n",
       "      <th>file</th>\n",
       "      <th>width</th>\n",
       "      <th>height</th>\n",
       "      <th>annotation_file</th>\n",
       "      <th>image_file</th>\n",
       "      <th>cropped_image_file</th>\n",
       "    </tr>\n",
       "  </thead>\n",
       "  <tbody>\n",
       "    <tr>\n",
       "      <th>800</th>\n",
       "      <td>226</td>\n",
       "      <td>86</td>\n",
       "      <td>238</td>\n",
       "      <td>98</td>\n",
       "      <td>without_mask</td>\n",
       "      <td>maksssksksss253</td>\n",
       "      <td>400</td>\n",
       "      <td>300</td>\n",
       "      <td>maksssksksss253.xml</td>\n",
       "      <td>maksssksksss253.png</td>\n",
       "      <td>maksssksksss253-800.png</td>\n",
       "    </tr>\n",
       "    <tr>\n",
       "      <th>801</th>\n",
       "      <td>155</td>\n",
       "      <td>83</td>\n",
       "      <td>172</td>\n",
       "      <td>103</td>\n",
       "      <td>without_mask</td>\n",
       "      <td>maksssksksss253</td>\n",
       "      <td>400</td>\n",
       "      <td>300</td>\n",
       "      <td>maksssksksss253.xml</td>\n",
       "      <td>maksssksksss253.png</td>\n",
       "      <td>maksssksksss253-801.png</td>\n",
       "    </tr>\n",
       "    <tr>\n",
       "      <th>802</th>\n",
       "      <td>32</td>\n",
       "      <td>57</td>\n",
       "      <td>49</td>\n",
       "      <td>89</td>\n",
       "      <td>without_mask</td>\n",
       "      <td>maksssksksss253</td>\n",
       "      <td>400</td>\n",
       "      <td>300</td>\n",
       "      <td>maksssksksss253.xml</td>\n",
       "      <td>maksssksksss253.png</td>\n",
       "      <td>maksssksksss253-802.png</td>\n",
       "    </tr>\n",
       "    <tr>\n",
       "      <th>803</th>\n",
       "      <td>385</td>\n",
       "      <td>77</td>\n",
       "      <td>400</td>\n",
       "      <td>93</td>\n",
       "      <td>without_mask</td>\n",
       "      <td>maksssksksss253</td>\n",
       "      <td>400</td>\n",
       "      <td>300</td>\n",
       "      <td>maksssksksss253.xml</td>\n",
       "      <td>maksssksksss253.png</td>\n",
       "      <td>maksssksksss253-803.png</td>\n",
       "    </tr>\n",
       "    <tr>\n",
       "      <th>804</th>\n",
       "      <td>17</td>\n",
       "      <td>42</td>\n",
       "      <td>55</td>\n",
       "      <td>85</td>\n",
       "      <td>without_mask</td>\n",
       "      <td>maksssksksss254</td>\n",
       "      <td>400</td>\n",
       "      <td>217</td>\n",
       "      <td>maksssksksss254.xml</td>\n",
       "      <td>maksssksksss254.png</td>\n",
       "      <td>maksssksksss254-804.png</td>\n",
       "    </tr>\n",
       "  </tbody>\n",
       "</table>\n",
       "</div>"
      ],
      "text/plain": [
       "     xmin  ymin  xmax  ymax         label             file  width  height  \\\n",
       "800   226    86   238    98  without_mask  maksssksksss253    400     300   \n",
       "801   155    83   172   103  without_mask  maksssksksss253    400     300   \n",
       "802    32    57    49    89  without_mask  maksssksksss253    400     300   \n",
       "803   385    77   400    93  without_mask  maksssksksss253    400     300   \n",
       "804    17    42    55    85  without_mask  maksssksksss254    400     217   \n",
       "\n",
       "         annotation_file           image_file       cropped_image_file  \n",
       "800  maksssksksss253.xml  maksssksksss253.png  maksssksksss253-800.png  \n",
       "801  maksssksksss253.xml  maksssksksss253.png  maksssksksss253-801.png  \n",
       "802  maksssksksss253.xml  maksssksksss253.png  maksssksksss253-802.png  \n",
       "803  maksssksksss253.xml  maksssksksss253.png  maksssksksss253-803.png  \n",
       "804  maksssksksss254.xml  maksssksksss254.png  maksssksksss254-804.png  "
      ]
     },
     "execution_count": 4,
     "metadata": {},
     "output_type": "execute_result"
    }
   ],
   "source": [
    "# Glimpse of Train Data\n",
    "train_df.head()"
   ]
  },
  {
   "cell_type": "code",
   "execution_count": 5,
   "id": "ec85d420",
   "metadata": {
    "execution": {
     "iopub.execute_input": "2021-10-06T08:35:42.289181Z",
     "iopub.status.busy": "2021-10-06T08:35:42.288542Z",
     "iopub.status.idle": "2021-10-06T08:35:42.290910Z",
     "shell.execute_reply": "2021-10-06T08:35:42.291491Z",
     "shell.execute_reply.started": "2021-09-05T11:33:27.687221Z"
    },
    "papermill": {
     "duration": 0.107727,
     "end_time": "2021-10-06T08:35:42.291667",
     "exception": false,
     "start_time": "2021-10-06T08:35:42.183940",
     "status": "completed"
    },
    "tags": []
   },
   "outputs": [],
   "source": [
    "# Number of Categories / Labels\n",
    "classes = list(train_df['label'].unique())"
   ]
  },
  {
   "cell_type": "markdown",
   "id": "ab62aa4a",
   "metadata": {
    "papermill": {
     "duration": 0.097892,
     "end_time": "2021-10-06T08:35:42.489411",
     "exception": false,
     "start_time": "2021-10-06T08:35:42.391519",
     "status": "completed"
    },
    "tags": []
   },
   "source": [
    "# 4. Exploratory Data Analysis (EDA)\n",
    "\n",
    "<br>"
   ]
  },
  {
   "cell_type": "code",
   "execution_count": 6,
   "id": "f9499eb8",
   "metadata": {
    "execution": {
     "iopub.execute_input": "2021-10-06T08:35:42.691152Z",
     "iopub.status.busy": "2021-10-06T08:35:42.690551Z",
     "iopub.status.idle": "2021-10-06T08:35:42.713269Z",
     "shell.execute_reply": "2021-10-06T08:35:42.712754Z",
     "shell.execute_reply.started": "2021-09-05T11:33:27.697344Z"
    },
    "papermill": {
     "duration": 0.125366,
     "end_time": "2021-10-06T08:35:42.713419",
     "exception": false,
     "start_time": "2021-10-06T08:35:42.588053",
     "status": "completed"
    },
    "tags": []
   },
   "outputs": [
    {
     "data": {
      "text/html": [
       "<div>\n",
       "<style scoped>\n",
       "    .dataframe tbody tr th:only-of-type {\n",
       "        vertical-align: middle;\n",
       "    }\n",
       "\n",
       "    .dataframe tbody tr th {\n",
       "        vertical-align: top;\n",
       "    }\n",
       "\n",
       "    .dataframe thead th {\n",
       "        text-align: right;\n",
       "    }\n",
       "</style>\n",
       "<table border=\"1\" class=\"dataframe\">\n",
       "  <thead>\n",
       "    <tr style=\"text-align: right;\">\n",
       "      <th></th>\n",
       "      <th>xmin</th>\n",
       "      <th>ymin</th>\n",
       "      <th>xmax</th>\n",
       "      <th>ymax</th>\n",
       "      <th>label</th>\n",
       "      <th>file</th>\n",
       "      <th>width</th>\n",
       "      <th>height</th>\n",
       "      <th>annotation_file</th>\n",
       "      <th>image_file</th>\n",
       "      <th>cropped_image_file</th>\n",
       "    </tr>\n",
       "  </thead>\n",
       "  <tbody>\n",
       "    <tr>\n",
       "      <th>800</th>\n",
       "      <td>226</td>\n",
       "      <td>86</td>\n",
       "      <td>238</td>\n",
       "      <td>98</td>\n",
       "      <td>without_mask</td>\n",
       "      <td>maksssksksss253</td>\n",
       "      <td>400</td>\n",
       "      <td>300</td>\n",
       "      <td>maksssksksss253.xml</td>\n",
       "      <td>maksssksksss253.png</td>\n",
       "      <td>maksssksksss253-800.png</td>\n",
       "    </tr>\n",
       "    <tr>\n",
       "      <th>801</th>\n",
       "      <td>155</td>\n",
       "      <td>83</td>\n",
       "      <td>172</td>\n",
       "      <td>103</td>\n",
       "      <td>without_mask</td>\n",
       "      <td>maksssksksss253</td>\n",
       "      <td>400</td>\n",
       "      <td>300</td>\n",
       "      <td>maksssksksss253.xml</td>\n",
       "      <td>maksssksksss253.png</td>\n",
       "      <td>maksssksksss253-801.png</td>\n",
       "    </tr>\n",
       "    <tr>\n",
       "      <th>802</th>\n",
       "      <td>32</td>\n",
       "      <td>57</td>\n",
       "      <td>49</td>\n",
       "      <td>89</td>\n",
       "      <td>without_mask</td>\n",
       "      <td>maksssksksss253</td>\n",
       "      <td>400</td>\n",
       "      <td>300</td>\n",
       "      <td>maksssksksss253.xml</td>\n",
       "      <td>maksssksksss253.png</td>\n",
       "      <td>maksssksksss253-802.png</td>\n",
       "    </tr>\n",
       "    <tr>\n",
       "      <th>803</th>\n",
       "      <td>385</td>\n",
       "      <td>77</td>\n",
       "      <td>400</td>\n",
       "      <td>93</td>\n",
       "      <td>without_mask</td>\n",
       "      <td>maksssksksss253</td>\n",
       "      <td>400</td>\n",
       "      <td>300</td>\n",
       "      <td>maksssksksss253.xml</td>\n",
       "      <td>maksssksksss253.png</td>\n",
       "      <td>maksssksksss253-803.png</td>\n",
       "    </tr>\n",
       "    <tr>\n",
       "      <th>804</th>\n",
       "      <td>17</td>\n",
       "      <td>42</td>\n",
       "      <td>55</td>\n",
       "      <td>85</td>\n",
       "      <td>without_mask</td>\n",
       "      <td>maksssksksss254</td>\n",
       "      <td>400</td>\n",
       "      <td>217</td>\n",
       "      <td>maksssksksss254.xml</td>\n",
       "      <td>maksssksksss254.png</td>\n",
       "      <td>maksssksksss254-804.png</td>\n",
       "    </tr>\n",
       "    <tr>\n",
       "      <th>...</th>\n",
       "      <td>...</td>\n",
       "      <td>...</td>\n",
       "      <td>...</td>\n",
       "      <td>...</td>\n",
       "      <td>...</td>\n",
       "      <td>...</td>\n",
       "      <td>...</td>\n",
       "      <td>...</td>\n",
       "      <td>...</td>\n",
       "      <td>...</td>\n",
       "      <td>...</td>\n",
       "    </tr>\n",
       "    <tr>\n",
       "      <th>4067</th>\n",
       "      <td>263</td>\n",
       "      <td>62</td>\n",
       "      <td>287</td>\n",
       "      <td>85</td>\n",
       "      <td>with_mask</td>\n",
       "      <td>maksssksksss98</td>\n",
       "      <td>400</td>\n",
       "      <td>267</td>\n",
       "      <td>maksssksksss98.xml</td>\n",
       "      <td>maksssksksss98.png</td>\n",
       "      <td>maksssksksss98-4067.png</td>\n",
       "    </tr>\n",
       "    <tr>\n",
       "      <th>4068</th>\n",
       "      <td>344</td>\n",
       "      <td>80</td>\n",
       "      <td>377</td>\n",
       "      <td>106</td>\n",
       "      <td>with_mask</td>\n",
       "      <td>maksssksksss98</td>\n",
       "      <td>400</td>\n",
       "      <td>267</td>\n",
       "      <td>maksssksksss98.xml</td>\n",
       "      <td>maksssksksss98.png</td>\n",
       "      <td>maksssksksss98-4068.png</td>\n",
       "    </tr>\n",
       "    <tr>\n",
       "      <th>4069</th>\n",
       "      <td>181</td>\n",
       "      <td>54</td>\n",
       "      <td>273</td>\n",
       "      <td>162</td>\n",
       "      <td>mask_incorrectly_worn</td>\n",
       "      <td>maksssksksss99</td>\n",
       "      <td>400</td>\n",
       "      <td>267</td>\n",
       "      <td>maksssksksss99.xml</td>\n",
       "      <td>maksssksksss99.png</td>\n",
       "      <td>maksssksksss99-4069.png</td>\n",
       "    </tr>\n",
       "    <tr>\n",
       "      <th>4070</th>\n",
       "      <td>99</td>\n",
       "      <td>87</td>\n",
       "      <td>176</td>\n",
       "      <td>165</td>\n",
       "      <td>with_mask</td>\n",
       "      <td>maksssksksss99</td>\n",
       "      <td>400</td>\n",
       "      <td>267</td>\n",
       "      <td>maksssksksss99.xml</td>\n",
       "      <td>maksssksksss99.png</td>\n",
       "      <td>maksssksksss99-4070.png</td>\n",
       "    </tr>\n",
       "    <tr>\n",
       "      <th>4071</th>\n",
       "      <td>289</td>\n",
       "      <td>99</td>\n",
       "      <td>355</td>\n",
       "      <td>233</td>\n",
       "      <td>with_mask</td>\n",
       "      <td>maksssksksss99</td>\n",
       "      <td>400</td>\n",
       "      <td>267</td>\n",
       "      <td>maksssksksss99.xml</td>\n",
       "      <td>maksssksksss99.png</td>\n",
       "      <td>maksssksksss99-4071.png</td>\n",
       "    </tr>\n",
       "  </tbody>\n",
       "</table>\n",
       "<p>3272 rows × 11 columns</p>\n",
       "</div>"
      ],
      "text/plain": [
       "      xmin  ymin  xmax  ymax                  label             file  width  \\\n",
       "800    226    86   238    98           without_mask  maksssksksss253    400   \n",
       "801    155    83   172   103           without_mask  maksssksksss253    400   \n",
       "802     32    57    49    89           without_mask  maksssksksss253    400   \n",
       "803    385    77   400    93           without_mask  maksssksksss253    400   \n",
       "804     17    42    55    85           without_mask  maksssksksss254    400   \n",
       "...    ...   ...   ...   ...                    ...              ...    ...   \n",
       "4067   263    62   287    85              with_mask   maksssksksss98    400   \n",
       "4068   344    80   377   106              with_mask   maksssksksss98    400   \n",
       "4069   181    54   273   162  mask_incorrectly_worn   maksssksksss99    400   \n",
       "4070    99    87   176   165              with_mask   maksssksksss99    400   \n",
       "4071   289    99   355   233              with_mask   maksssksksss99    400   \n",
       "\n",
       "      height      annotation_file           image_file  \\\n",
       "800      300  maksssksksss253.xml  maksssksksss253.png   \n",
       "801      300  maksssksksss253.xml  maksssksksss253.png   \n",
       "802      300  maksssksksss253.xml  maksssksksss253.png   \n",
       "803      300  maksssksksss253.xml  maksssksksss253.png   \n",
       "804      217  maksssksksss254.xml  maksssksksss254.png   \n",
       "...      ...                  ...                  ...   \n",
       "4067     267   maksssksksss98.xml   maksssksksss98.png   \n",
       "4068     267   maksssksksss98.xml   maksssksksss98.png   \n",
       "4069     267   maksssksksss99.xml   maksssksksss99.png   \n",
       "4070     267   maksssksksss99.xml   maksssksksss99.png   \n",
       "4071     267   maksssksksss99.xml   maksssksksss99.png   \n",
       "\n",
       "           cropped_image_file  \n",
       "800   maksssksksss253-800.png  \n",
       "801   maksssksksss253-801.png  \n",
       "802   maksssksksss253-802.png  \n",
       "803   maksssksksss253-803.png  \n",
       "804   maksssksksss254-804.png  \n",
       "...                       ...  \n",
       "4067  maksssksksss98-4067.png  \n",
       "4068  maksssksksss98-4068.png  \n",
       "4069  maksssksksss99-4069.png  \n",
       "4070  maksssksksss99-4070.png  \n",
       "4071  maksssksksss99-4071.png  \n",
       "\n",
       "[3272 rows x 11 columns]"
      ]
     },
     "execution_count": 6,
     "metadata": {},
     "output_type": "execute_result"
    }
   ],
   "source": [
    "train_df"
   ]
  },
  {
   "cell_type": "code",
   "execution_count": 7,
   "id": "f164ba71",
   "metadata": {
    "execution": {
     "iopub.execute_input": "2021-10-06T08:35:45.609632Z",
     "iopub.status.busy": "2021-10-06T08:35:45.608973Z",
     "iopub.status.idle": "2021-10-06T08:35:45.612016Z",
     "shell.execute_reply": "2021-10-06T08:35:45.612467Z",
     "shell.execute_reply.started": "2021-09-05T11:33:28.527511Z"
    },
    "papermill": {
     "duration": 0.139626,
     "end_time": "2021-10-06T08:35:45.612636",
     "exception": false,
     "start_time": "2021-10-06T08:35:45.473010",
     "status": "completed"
    },
    "tags": []
   },
   "outputs": [
    {
     "data": {
      "text/plain": [
       "with_mask                2651\n",
       "without_mask              521\n",
       "mask_incorrectly_worn     100\n",
       "Name: label, dtype: int64"
      ]
     },
     "execution_count": 7,
     "metadata": {},
     "output_type": "execute_result"
    }
   ],
   "source": [
    "# Count Occurence of Labels\n",
    "train_df['label'].value_counts()"
   ]
  },
  {
   "cell_type": "code",
   "execution_count": 8,
   "id": "3c6a2082",
   "metadata": {
    "execution": {
     "iopub.execute_input": "2021-10-06T08:35:45.882709Z",
     "iopub.status.busy": "2021-10-06T08:35:45.881657Z",
     "iopub.status.idle": "2021-10-06T08:35:45.886716Z",
     "shell.execute_reply": "2021-10-06T08:35:45.886032Z",
     "shell.execute_reply.started": "2021-09-05T11:33:28.541116Z"
    },
    "papermill": {
     "duration": 0.145824,
     "end_time": "2021-10-06T08:35:45.886859",
     "exception": false,
     "start_time": "2021-10-06T08:35:45.741035",
     "status": "completed"
    },
    "tags": []
   },
   "outputs": [
    {
     "data": {
      "text/html": [
       "<div>\n",
       "<style scoped>\n",
       "    .dataframe tbody tr th:only-of-type {\n",
       "        vertical-align: middle;\n",
       "    }\n",
       "\n",
       "    .dataframe tbody tr th {\n",
       "        vertical-align: top;\n",
       "    }\n",
       "\n",
       "    .dataframe thead th {\n",
       "        text-align: right;\n",
       "    }\n",
       "</style>\n",
       "<table border=\"1\" class=\"dataframe\">\n",
       "  <thead>\n",
       "    <tr style=\"text-align: right;\">\n",
       "      <th></th>\n",
       "      <th>label</th>\n",
       "      <th>count</th>\n",
       "    </tr>\n",
       "  </thead>\n",
       "  <tbody>\n",
       "    <tr>\n",
       "      <th>0</th>\n",
       "      <td>with_mask</td>\n",
       "      <td>2651</td>\n",
       "    </tr>\n",
       "    <tr>\n",
       "      <th>1</th>\n",
       "      <td>without_mask</td>\n",
       "      <td>521</td>\n",
       "    </tr>\n",
       "    <tr>\n",
       "      <th>2</th>\n",
       "      <td>mask_incorrectly_worn</td>\n",
       "      <td>100</td>\n",
       "    </tr>\n",
       "  </tbody>\n",
       "</table>\n",
       "</div>"
      ],
      "text/plain": [
       "                   label  count\n",
       "0              with_mask   2651\n",
       "1           without_mask    521\n",
       "2  mask_incorrectly_worn    100"
      ]
     },
     "execution_count": 8,
     "metadata": {},
     "output_type": "execute_result"
    }
   ],
   "source": [
    "sorted_label_df = pd.DataFrame(train_df['label'].value_counts()).reset_index()\n",
    "sorted_label_df.rename(columns = {'index': 'label', 'label': 'count'}, inplace = True)\n",
    "sorted_label_df"
   ]
  },
  {
   "cell_type": "code",
   "execution_count": 9,
   "id": "f4b88352",
   "metadata": {
    "execution": {
     "iopub.execute_input": "2021-10-06T08:35:46.198946Z",
     "iopub.status.busy": "2021-10-06T08:35:46.181262Z",
     "iopub.status.idle": "2021-10-06T08:35:46.341837Z",
     "shell.execute_reply": "2021-10-06T08:35:46.341214Z",
     "shell.execute_reply.started": "2021-09-05T11:33:28.565242Z"
    },
    "papermill": {
     "duration": 0.299274,
     "end_time": "2021-10-06T08:35:46.341973",
     "exception": false,
     "start_time": "2021-10-06T08:35:46.042699",
     "status": "completed"
    },
    "tags": []
   },
   "outputs": [
    {
     "data": {
      "image/png": "[encoded data removed]",
      "text/plain": [
       "<Figure size 576x432 with 1 Axes>"
      ]
     },
     "metadata": {},
     "output_type": "display_data"
    }
   ],
   "source": [
    "plt.style.use('seaborn')\n",
    "plt.figure(figsize = (8, 6))\n",
    "barplot = sns.barplot(x = 'count', y = 'label', data = sorted_label_df, orient = 'horizontal', \n",
    "                      palette = ['green', 'red', 'yellow'])\n",
    "plt.title('Distribution of Labels', fontsize = 20, fontweight = 'bold')\n",
    "plt.xlabel('Count', fontsize = 15, fontweight = 'bold')\n",
    "plt.ylabel('Label', fontsize = 15, fontweight = 'bold')\n",
    "\n",
    "for p in barplot.patches:\n",
    "    width = p.get_width()\n",
    "    percentage = round(width * 100 / sum(sorted_label_df['count']), 2)\n",
    "    plt.text(x = width + 15, y = p.get_y() + 0.55 * p.get_height(), s = f'{int(width)}\\n({percentage} %)')\n",
    "\n",
    "plt.show()"
   ]
  },
  {
   "cell_type": "code",
   "execution_count": 10,
   "id": "840348cd",
   "metadata": {
    "execution": {
     "iopub.execute_input": "2021-10-06T08:35:46.606409Z",
     "iopub.status.busy": "2021-10-06T08:35:46.605451Z",
     "iopub.status.idle": "2021-10-06T08:35:46.611324Z",
     "shell.execute_reply": "2021-10-06T08:35:46.610826Z",
     "shell.execute_reply.started": "2021-09-05T11:33:28.754199Z"
    },
    "papermill": {
     "duration": 0.140091,
     "end_time": "2021-10-06T08:35:46.611478",
     "exception": false,
     "start_time": "2021-10-06T08:35:46.471387",
     "status": "completed"
    },
    "tags": []
   },
   "outputs": [
    {
     "data": {
      "text/plain": [
       "(12, 12, 3)"
      ]
     },
     "execution_count": 10,
     "metadata": {},
     "output_type": "execute_result"
    }
   ],
   "source": [
    "cropped_image_directory = './Processed Data/cropped_images/'\n",
    "\n",
    "cropped_image_path = cropped_image_directory + train_df['cropped_image_file'].iloc[0]\n",
    "cropped_image = cv2.imread(cropped_image_path)\n",
    "\n",
    "cropped_image.shape"
   ]
  },
  {
   "cell_type": "code",
   "execution_count": 11,
   "id": "b7f397ac",
   "metadata": {
    "execution": {
     "iopub.execute_input": "2021-10-06T08:35:47.147763Z",
     "iopub.status.busy": "2021-10-06T08:35:47.146714Z",
     "iopub.status.idle": "2021-10-06T08:35:47.783598Z",
     "shell.execute_reply": "2021-10-06T08:35:47.782813Z",
     "shell.execute_reply.started": "2021-09-05T11:33:28.780532Z"
    },
    "papermill": {
     "duration": 0.773964,
     "end_time": "2021-10-06T08:35:47.783794",
     "exception": false,
     "start_time": "2021-10-06T08:35:47.009830",
     "status": "completed"
    },
    "tags": []
   },
   "outputs": [],
   "source": [
    "image_width = []\n",
    "image_height = []\n",
    "\n",
    "for i in range(len(train_df)):\n",
    "    cropped_image_path = cropped_image_directory + train_df['cropped_image_file'].iloc[i]\n",
    "    cropped_image = cv2.imread(cropped_image_path)\n",
    "    image_width.append(cropped_image.shape[0])\n",
    "    image_height.append(cropped_image.shape[1])"
   ]
  },
  {
   "cell_type": "code",
   "execution_count": 12,
   "id": "99f1e72b",
   "metadata": {
    "execution": {
     "iopub.execute_input": "2021-10-06T08:35:48.085119Z",
     "iopub.status.busy": "2021-10-06T08:35:48.058112Z",
     "iopub.status.idle": "2021-10-06T08:35:48.571598Z",
     "shell.execute_reply": "2021-10-06T08:35:48.571064Z",
     "shell.execute_reply.started": "2021-09-05T11:33:29.423059Z"
    },
    "papermill": {
     "duration": 0.655083,
     "end_time": "2021-10-06T08:35:48.571731",
     "exception": false,
     "start_time": "2021-10-06T08:35:47.916648",
     "status": "completed"
    },
    "tags": []
   },
   "outputs": [
    {
     "data": {
      "image/png": "[encoded data removed]",
      "text/plain": [
       "<Figure size 576x396 with 1 Axes>"
      ]
     },
     "metadata": {},
     "output_type": "display_data"
    }
   ],
   "source": [
    "sns.histplot(image_width, kde = True)\n",
    "plt.title('Image Width Distribution', fontsize = 16, fontweight = 'bold')\n",
    "plt.xlabel('Image Width', fontweight = 'bold')\n",
    "plt.ylabel('Count', fontweight = 'bold')\n",
    "plt.show()"
   ]
  },
  {
   "cell_type": "code",
   "execution_count": 13,
   "id": "c1fc04cc",
   "metadata": {
    "execution": {
     "iopub.execute_input": "2021-10-06T08:35:48.863010Z",
     "iopub.status.busy": "2021-10-06T08:35:48.843789Z",
     "iopub.status.idle": "2021-10-06T08:35:49.223881Z",
     "shell.execute_reply": "2021-10-06T08:35:49.223356Z",
     "shell.execute_reply.started": "2021-09-05T11:33:29.958105Z"
    },
    "papermill": {
     "duration": 0.520687,
     "end_time": "2021-10-06T08:35:49.224028",
     "exception": false,
     "start_time": "2021-10-06T08:35:48.703341",
     "status": "completed"
    },
    "tags": []
   },
   "outputs": [
    {
     "data": {
      "image/png": "[encoded data removed]",
      "text/plain": [
       "<Figure size 576x396 with 1 Axes>"
      ]
     },
     "metadata": {},
     "output_type": "display_data"
    }
   ],
   "source": [
    "sns.histplot(image_height, kde = True)\n",
    "plt.title('Image Height Distribution', fontsize = 16, fontweight = 'bold')\n",
    "plt.xlabel('Image Height', fontweight = 'bold')\n",
    "plt.ylabel('Count', fontweight = 'bold')\n",
    "plt.show()"
   ]
  },
  {
   "cell_type": "code",
   "execution_count": 14,
   "id": "b41ec54f",
   "metadata": {
    "execution": {
     "iopub.execute_input": "2021-10-06T08:35:49.493487Z",
     "iopub.status.busy": "2021-10-06T08:35:49.492577Z",
     "iopub.status.idle": "2021-10-06T08:35:49.499567Z",
     "shell.execute_reply": "2021-10-06T08:35:49.500075Z",
     "shell.execute_reply.started": "2021-09-05T11:33:30.352477Z"
    },
    "papermill": {
     "duration": 0.146104,
     "end_time": "2021-10-06T08:35:49.500266",
     "exception": false,
     "start_time": "2021-10-06T08:35:49.354162",
     "status": "completed"
    },
    "tags": []
   },
   "outputs": [
    {
     "name": "stdout",
     "output_type": "stream",
     "text": [
      "IMAGE WIDTH\n",
      "Min: 2\n",
      "Max: 337\n",
      "Mean: 34.65739608801956\n",
      "Median: 23.0\n",
      "IMAGE HEIGHT\n",
      "Min: 1\n",
      "Max: 317\n",
      "Mean: 30.802261613691932\n",
      "Median: 22.0\n"
     ]
    }
   ],
   "source": [
    "print('IMAGE WIDTH')\n",
    "print(f'Min: {min(image_width)}')\n",
    "print(f'Max: {max(image_width)}')\n",
    "print(f'Mean: {np.mean(image_width)}')\n",
    "print(f'Median: {np.median(image_width)}')\n",
    "print('IMAGE HEIGHT')\n",
    "print(f'Min: {min(image_height)}')\n",
    "print(f'Max: {max(image_height)}')\n",
    "print(f'Mean: {np.mean(image_height)}')\n",
    "print(f'Median: {np.median(image_height)}')"
   ]
  },
  {
   "cell_type": "code",
   "execution_count": 15,
   "id": "5879dd28",
   "metadata": {
    "execution": {
     "iopub.execute_input": "2021-10-06T08:35:49.772120Z",
     "iopub.status.busy": "2021-10-06T08:35:49.771426Z",
     "iopub.status.idle": "2021-10-06T08:35:49.777094Z",
     "shell.execute_reply": "2021-10-06T08:35:49.777575Z",
     "shell.execute_reply.started": "2021-09-05T11:33:30.365519Z"
    },
    "papermill": {
     "duration": 0.144515,
     "end_time": "2021-10-06T08:35:49.777741",
     "exception": false,
     "start_time": "2021-10-06T08:35:49.633226",
     "status": "completed"
    },
    "tags": []
   },
   "outputs": [
    {
     "data": {
      "text/plain": [
       "(23, 22)"
      ]
     },
     "execution_count": 15,
     "metadata": {},
     "output_type": "execute_result"
    }
   ],
   "source": [
    "image_target_size = (int(np.median(image_width)), int(np.median(image_height)))\n",
    "image_target_size"
   ]
  },
  {
   "cell_type": "markdown",
   "id": "343d123c",
   "metadata": {
    "papermill": {
     "duration": 0.130816,
     "end_time": "2021-10-06T08:35:50.040366",
     "exception": false,
     "start_time": "2021-10-06T08:35:49.909550",
     "status": "completed"
    },
    "tags": []
   },
   "source": [
    "# 5. Image Data Generator"
   ]
  },
  {
   "cell_type": "code",
   "execution_count": 16,
   "id": "ad39e403",
   "metadata": {
    "execution": {
     "iopub.execute_input": "2021-10-06T08:35:50.319554Z",
     "iopub.status.busy": "2021-10-06T08:35:50.309626Z",
     "iopub.status.idle": "2021-10-06T08:35:50.385636Z",
     "shell.execute_reply": "2021-10-06T08:35:50.385032Z",
     "shell.execute_reply.started": "2021-09-05T11:33:30.386088Z"
    },
    "papermill": {
     "duration": 0.2142,
     "end_time": "2021-10-06T08:35:50.385768",
     "exception": false,
     "start_time": "2021-10-06T08:35:50.171568",
     "status": "completed"
    },
    "tags": []
   },
   "outputs": [
    {
     "name": "stdout",
     "output_type": "stream",
     "text": [
      "Found 2454 validated image filenames belonging to 3 classes.\n",
      "Found 818 validated image filenames belonging to 3 classes.\n"
     ]
    }
   ],
   "source": [
    "from keras_preprocessing.image import ImageDataGenerator\n",
    "\n",
    "train_image_generator = ImageDataGenerator(rescale = 1. / 255., validation_split = 0.25)\n",
    "\n",
    "train_generator = train_image_generator.flow_from_dataframe(\n",
    "    dataframe = train_df,\n",
    "    directory = cropped_image_directory,\n",
    "    x_col = 'cropped_image_file',\n",
    "    y_col = 'label',\n",
    "    subset = 'training',\n",
    "    batch_size = 32,\n",
    "    seed = 42,\n",
    "    shuffle = True,\n",
    "    class_mode = 'categorical',\n",
    "    target_size = image_target_size\n",
    ")\n",
    "\n",
    "valid_generator = train_image_generator.flow_from_dataframe(\n",
    "    dataframe = train_df,\n",
    "    directory = cropped_image_directory,\n",
    "    x_col = 'cropped_image_file',\n",
    "    y_col = 'label',\n",
    "    subset = 'validation',\n",
    "    batch_size = 32,\n",
    "    seed = 42,\n",
    "    shuffle = True,\n",
    "    class_mode = 'categorical',\n",
    "    target_size = image_target_size\n",
    ")"
   ]
  },
  {
   "cell_type": "code",
   "execution_count": 17,
   "id": "441f8a7b",
   "metadata": {
    "execution": {
     "iopub.execute_input": "2021-10-06T08:35:50.660937Z",
     "iopub.status.busy": "2021-10-06T08:35:50.659946Z",
     "iopub.status.idle": "2021-10-06T08:35:50.674493Z",
     "shell.execute_reply": "2021-10-06T08:35:50.675029Z",
     "shell.execute_reply.started": "2021-09-05T11:33:30.471722Z"
    },
    "papermill": {
     "duration": 0.157822,
     "end_time": "2021-10-06T08:35:50.675207",
     "exception": false,
     "start_time": "2021-10-06T08:35:50.517385",
     "status": "completed"
    },
    "tags": []
   },
   "outputs": [
    {
     "name": "stdout",
     "output_type": "stream",
     "text": [
      "Found 800 validated image filenames belonging to 3 classes.\n"
     ]
    }
   ],
   "source": [
    "test_image_generator = ImageDataGenerator(rescale = 1. / 255.)\n",
    "\n",
    "test_generator = train_image_generator.flow_from_dataframe(\n",
    "    dataframe = test_df,\n",
    "    directory = cropped_image_directory,\n",
    "    x_col = 'cropped_image_file',\n",
    "    y_col = 'label',\n",
    "    batch_size = 32,\n",
    "    seed = 42,\n",
    "    shuffle = True,\n",
    "    class_mode = 'categorical',\n",
    "    target_size = image_target_size\n",
    ")"
   ]
  },
  {
   "cell_type": "code",
   "execution_count": 18,
   "id": "c698ac28",
   "metadata": {
    "execution": {
     "iopub.execute_input": "2021-10-06T08:35:50.949460Z",
     "iopub.status.busy": "2021-10-06T08:35:50.948420Z",
     "iopub.status.idle": "2021-10-06T08:35:50.952022Z",
     "shell.execute_reply": "2021-10-06T08:35:50.953053Z",
     "shell.execute_reply.started": "2021-09-05T11:33:30.495678Z"
    },
    "papermill": {
     "duration": 0.142395,
     "end_time": "2021-10-06T08:35:50.953280",
     "exception": false,
     "start_time": "2021-10-06T08:35:50.810885",
     "status": "completed"
    },
    "tags": []
   },
   "outputs": [
    {
     "name": "stdout",
     "output_type": "stream",
     "text": [
      "<keras_preprocessing.image.dataframe_iterator.DataFrameIterator object at 0x000001D5E21ED670>\n",
      "<keras_preprocessing.image.dataframe_iterator.DataFrameIterator object at 0x000001D5E21ED8B0>\n",
      "<keras_preprocessing.image.dataframe_iterator.DataFrameIterator object at 0x000001D5E21ED730>\n"
     ]
    }
   ],
   "source": [
    "print(train_generator)\n",
    "print(valid_generator)\n",
    "print(test_generator)"
   ]
  },
  {
   "cell_type": "markdown",
   "id": "a0e6bdaa",
   "metadata": {
    "papermill": {
     "duration": 0.134533,
     "end_time": "2021-10-06T08:35:51.226064",
     "exception": false,
     "start_time": "2021-10-06T08:35:51.091531",
     "status": "completed"
    },
    "tags": []
   },
   "source": [
    "# 6. Modelling"
   ]
  },
  {
   "cell_type": "code",
   "execution_count": 19,
   "id": "a2cd9fd4",
   "metadata": {
    "execution": {
     "iopub.execute_input": "2021-10-06T08:35:51.500136Z",
     "iopub.status.busy": "2021-10-06T08:35:51.499215Z",
     "iopub.status.idle": "2021-10-06T08:35:51.502220Z",
     "shell.execute_reply": "2021-10-06T08:35:51.501613Z",
     "shell.execute_reply.started": "2021-09-05T11:33:30.503737Z"
    },
    "papermill": {
     "duration": 0.143171,
     "end_time": "2021-10-06T08:35:51.502366",
     "exception": false,
     "start_time": "2021-10-06T08:35:51.359195",
     "status": "completed"
    },
    "tags": []
   },
   "outputs": [
    {
     "data": {
      "text/plain": [
       "[23, 22, 3]"
      ]
     },
     "execution_count": 19,
     "metadata": {},
     "output_type": "execute_result"
    }
   ],
   "source": [
    "input_shape = [int(np.median(image_width)), int(np.median(image_height)), 3]\n",
    "input_shape"
   ]
  },
  {
   "cell_type": "code",
   "execution_count": 20,
   "id": "560e6d9b",
   "metadata": {
    "execution": {
     "iopub.execute_input": "2021-10-06T08:35:51.773647Z",
     "iopub.status.busy": "2021-10-06T08:35:51.772999Z",
     "iopub.status.idle": "2021-10-06T08:35:51.907682Z",
     "shell.execute_reply": "2021-10-06T08:35:51.907157Z",
     "shell.execute_reply.started": "2021-09-05T11:33:30.515948Z"
    },
    "papermill": {
     "duration": 0.274697,
     "end_time": "2021-10-06T08:35:51.907825",
     "exception": false,
     "start_time": "2021-10-06T08:35:51.633128",
     "status": "completed"
    },
    "tags": []
   },
   "outputs": [],
   "source": [
    "model = keras.models.Sequential([\n",
    "    keras.layers.Conv2D(filters = 10, kernel_size = 3, activation = 'relu', \n",
    "                        input_shape = input_shape),\n",
    "    keras.layers.Conv2D(filters = 10, kernel_size = 3, activation = 'relu'),\n",
    "    keras.layers.MaxPool2D(pool_size = 2, padding = 'valid'),\n",
    "    keras.layers.Conv2D(filters = 10, kernel_size = 3, activation = 'relu'),\n",
    "    keras.layers.Conv2D(filters = 10, kernel_size = 3, activation = 'relu'),\n",
    "    keras.layers.MaxPool2D(pool_size = 2, padding = 'valid'),\n",
    "    keras.layers.Flatten(),\n",
    "    keras.layers.Dense(units = len(classes), activation = 'softmax')\n",
    "])"
   ]
  },
  {
   "cell_type": "code",
   "execution_count": 21,
   "id": "981f7fed",
   "metadata": {
    "execution": {
     "iopub.execute_input": "2021-10-06T08:35:52.176739Z",
     "iopub.status.busy": "2021-10-06T08:35:52.175846Z",
     "iopub.status.idle": "2021-10-06T08:36:09.150899Z",
     "shell.execute_reply": "2021-10-06T08:36:09.150191Z",
     "shell.execute_reply.started": "2021-09-05T11:33:30.670472Z"
    },
    "papermill": {
     "duration": 17.109398,
     "end_time": "2021-10-06T08:36:09.151039",
     "exception": false,
     "start_time": "2021-10-06T08:35:52.041641",
     "status": "completed"
    },
    "tags": []
   },
   "outputs": [],
   "source": [
    "model.compile(loss = 'categorical_crossentropy',\n",
    "                optimizer = keras.optimizers.Adam(),\n",
    "                metrics = ['accuracy', keras.metrics.Recall()])"
   ]
  },
  {
   "cell_type": "markdown",
   "id": "0ea529fc",
   "metadata": {},
   "source": [
    "> Start Training the Model"
   ]
  },
  {
   "cell_type": "code",
   "execution_count": 22,
   "id": "5abfd768",
   "metadata": {},
   "outputs": [
    {
     "name": "stdout",
     "output_type": "stream",
     "text": [
      "Epoch 1/100\n",
      "77/77 [==============================] - 3s 35ms/step - loss: 0.6915 - accuracy: 0.7657 - recall: 0.5949 - val_loss: 0.5273 - val_accuracy: 0.8081 - val_recall: 0.7995\n",
      "Epoch 2/100\n",
      "77/77 [==============================] - 2s 32ms/step - loss: 0.5097 - accuracy: 0.8109 - recall: 0.8036 - val_loss: 0.4984 - val_accuracy: 0.8081 - val_recall: 0.8068\n",
      "Epoch 3/100\n",
      "77/77 [==============================] - 2s 31ms/step - loss: 0.4324 - accuracy: 0.8117 - recall: 0.8081 - val_loss: 0.3779 - val_accuracy: 0.8166 - val_recall: 0.7983\n",
      "Epoch 4/100\n",
      "77/77 [==============================] - 2s 31ms/step - loss: 0.3019 - accuracy: 0.9079 - recall: 0.8676 - val_loss: 0.2764 - val_accuracy: 0.9156 - val_recall: 0.9059\n",
      "Epoch 5/100\n",
      "77/77 [==============================] - 2s 29ms/step - loss: 0.2456 - accuracy: 0.9214 - recall: 0.9128 - val_loss: 0.2642 - val_accuracy: 0.9181 - val_recall: 0.9132\n",
      "Epoch 6/100\n",
      "77/77 [==============================] - 2s 31ms/step - loss: 0.2163 - accuracy: 0.9299 - recall: 0.9242 - val_loss: 0.2467 - val_accuracy: 0.9242 - val_recall: 0.9230\n",
      "Epoch 7/100\n",
      "77/77 [==============================] - 2s 30ms/step - loss: 0.2086 - accuracy: 0.9360 - recall: 0.9287 - val_loss: 0.2465 - val_accuracy: 0.9279 - val_recall: 0.9230\n",
      "Epoch 8/100\n",
      "77/77 [==============================] - 2s 28ms/step - loss: 0.1995 - accuracy: 0.9389 - recall: 0.9328 - val_loss: 0.2344 - val_accuracy: 0.9267 - val_recall: 0.9230\n",
      "Epoch 9/100\n",
      "77/77 [==============================] - 2s 30ms/step - loss: 0.1952 - accuracy: 0.9372 - recall: 0.9348 - val_loss: 0.2287 - val_accuracy: 0.9340 - val_recall: 0.9291\n",
      "Epoch 10/100\n",
      "77/77 [==============================] - 2s 28ms/step - loss: 0.1924 - accuracy: 0.9389 - recall: 0.9344 - val_loss: 0.2345 - val_accuracy: 0.9267 - val_recall: 0.9230\n",
      "Epoch 11/100\n",
      "77/77 [==============================] - 2s 28ms/step - loss: 0.1895 - accuracy: 0.9389 - recall: 0.9336 - val_loss: 0.2676 - val_accuracy: 0.9205 - val_recall: 0.9169\n",
      "Epoch 12/100\n",
      "77/77 [==============================] - 2s 28ms/step - loss: 0.1777 - accuracy: 0.9405 - recall: 0.9348 - val_loss: 0.2672 - val_accuracy: 0.9156 - val_recall: 0.9108\n",
      "Epoch 13/100\n",
      "77/77 [==============================] - 2s 29ms/step - loss: 0.1760 - accuracy: 0.9405 - recall: 0.9385 - val_loss: 0.2107 - val_accuracy: 0.9315 - val_recall: 0.9303\n",
      "Epoch 14/100\n",
      "77/77 [==============================] - 2s 29ms/step - loss: 0.1689 - accuracy: 0.9438 - recall: 0.9397 - val_loss: 0.2640 - val_accuracy: 0.9156 - val_recall: 0.9095\n",
      "Epoch 15/100\n",
      "77/77 [==============================] - 2s 28ms/step - loss: 0.1569 - accuracy: 0.9478 - recall: 0.9454 - val_loss: 0.2043 - val_accuracy: 0.9352 - val_recall: 0.9340\n",
      "Epoch 16/100\n",
      "77/77 [==============================] - 2s 29ms/step - loss: 0.1550 - accuracy: 0.9466 - recall: 0.9425 - val_loss: 0.2248 - val_accuracy: 0.9242 - val_recall: 0.9193\n",
      "Epoch 17/100\n",
      "77/77 [==============================] - 2s 31ms/step - loss: 0.1506 - accuracy: 0.9470 - recall: 0.9430 - val_loss: 0.1916 - val_accuracy: 0.9328 - val_recall: 0.9303\n",
      "Epoch 18/100\n",
      "77/77 [==============================] - 3s 37ms/step - loss: 0.1502 - accuracy: 0.9482 - recall: 0.9454 - val_loss: 0.2291 - val_accuracy: 0.9242 - val_recall: 0.9230\n",
      "Epoch 19/100\n",
      "77/77 [==============================] - 3s 33ms/step - loss: 0.1436 - accuracy: 0.9503 - recall: 0.9450 - val_loss: 0.2074 - val_accuracy: 0.9340 - val_recall: 0.9303\n",
      "Epoch 20/100\n",
      "77/77 [==============================] - 2s 31ms/step - loss: 0.1421 - accuracy: 0.9499 - recall: 0.9491 - val_loss: 0.2040 - val_accuracy: 0.9303 - val_recall: 0.9303\n",
      "Epoch 21/100\n",
      "77/77 [==============================] - 2s 31ms/step - loss: 0.1331 - accuracy: 0.9540 - recall: 0.9515 - val_loss: 0.2191 - val_accuracy: 0.9291 - val_recall: 0.9267\n",
      "Epoch 22/100\n",
      "77/77 [==============================] - 2s 31ms/step - loss: 0.1334 - accuracy: 0.9535 - recall: 0.9515 - val_loss: 0.1879 - val_accuracy: 0.9389 - val_recall: 0.9377\n",
      "Epoch 23/100\n",
      "77/77 [==============================] - 2s 32ms/step - loss: 0.1390 - accuracy: 0.9499 - recall: 0.9462 - val_loss: 0.1873 - val_accuracy: 0.9328 - val_recall: 0.9315\n",
      "Epoch 24/100\n",
      "77/77 [==============================] - 2s 32ms/step - loss: 0.1267 - accuracy: 0.9564 - recall: 0.9548 - val_loss: 0.2031 - val_accuracy: 0.9303 - val_recall: 0.9267\n",
      "Epoch 25/100\n",
      "77/77 [==============================] - 2s 32ms/step - loss: 0.1295 - accuracy: 0.9519 - recall: 0.9499 - val_loss: 0.1723 - val_accuracy: 0.9401 - val_recall: 0.9389\n",
      "Epoch 26/100\n",
      "77/77 [==============================] - 3s 34ms/step - loss: 0.1248 - accuracy: 0.9548 - recall: 0.9515 - val_loss: 0.1735 - val_accuracy: 0.9364 - val_recall: 0.9364\n",
      "Epoch 27/100\n",
      "77/77 [==============================] - 2s 32ms/step - loss: 0.1315 - accuracy: 0.9519 - recall: 0.9474 - val_loss: 0.1839 - val_accuracy: 0.9413 - val_recall: 0.9389\n",
      "Epoch 28/100\n",
      "77/77 [==============================] - 3s 32ms/step - loss: 0.1254 - accuracy: 0.9560 - recall: 0.9527 - val_loss: 0.1745 - val_accuracy: 0.9364 - val_recall: 0.9352\n",
      "Epoch 29/100\n",
      "77/77 [==============================] - 2s 32ms/step - loss: 0.1176 - accuracy: 0.9552 - recall: 0.9527 - val_loss: 0.1860 - val_accuracy: 0.9340 - val_recall: 0.9328\n",
      "Epoch 30/100\n",
      "77/77 [==============================] - 3s 36ms/step - loss: 0.1156 - accuracy: 0.9576 - recall: 0.9556 - val_loss: 0.1877 - val_accuracy: 0.9340 - val_recall: 0.9328\n",
      "Epoch 31/100\n",
      "77/77 [==============================] - 3s 34ms/step - loss: 0.1131 - accuracy: 0.9584 - recall: 0.9556 - val_loss: 0.1714 - val_accuracy: 0.9377 - val_recall: 0.9340\n",
      "Epoch 32/100\n",
      "77/77 [==============================] - 2s 31ms/step - loss: 0.1120 - accuracy: 0.9613 - recall: 0.9597 - val_loss: 0.2064 - val_accuracy: 0.9328 - val_recall: 0.9291\n",
      "Epoch 33/100\n",
      "77/77 [==============================] - 2s 32ms/step - loss: 0.1046 - accuracy: 0.9629 - recall: 0.9601 - val_loss: 0.2737 - val_accuracy: 0.9144 - val_recall: 0.9132\n",
      "Epoch 34/100\n",
      "77/77 [==============================] - 2s 31ms/step - loss: 0.1153 - accuracy: 0.9593 - recall: 0.9560 - val_loss: 0.1628 - val_accuracy: 0.9413 - val_recall: 0.9389\n",
      "Epoch 35/100\n",
      "77/77 [==============================] - 2s 31ms/step - loss: 0.1031 - accuracy: 0.9637 - recall: 0.9609 - val_loss: 0.2145 - val_accuracy: 0.9315 - val_recall: 0.9279\n",
      "Epoch 36/100\n",
      "77/77 [==============================] - 2s 31ms/step - loss: 0.1006 - accuracy: 0.9641 - recall: 0.9609 - val_loss: 0.1918 - val_accuracy: 0.9377 - val_recall: 0.9328\n",
      "Epoch 37/100\n",
      "77/77 [==============================] - 3s 33ms/step - loss: 0.1010 - accuracy: 0.9633 - recall: 0.9613 - val_loss: 0.1993 - val_accuracy: 0.9340 - val_recall: 0.9315\n",
      "Epoch 38/100\n",
      "77/77 [==============================] - 3s 36ms/step - loss: 0.0990 - accuracy: 0.9633 - recall: 0.9625 - val_loss: 0.1628 - val_accuracy: 0.9401 - val_recall: 0.9377\n",
      "Epoch 39/100\n",
      "77/77 [==============================] - 3s 34ms/step - loss: 0.0999 - accuracy: 0.9658 - recall: 0.9645 - val_loss: 0.1859 - val_accuracy: 0.9364 - val_recall: 0.9352\n",
      "Epoch 40/100\n",
      "77/77 [==============================] - 3s 34ms/step - loss: 0.0952 - accuracy: 0.9666 - recall: 0.9650 - val_loss: 0.1871 - val_accuracy: 0.9401 - val_recall: 0.9389\n",
      "Epoch 41/100\n",
      "77/77 [==============================] - 3s 33ms/step - loss: 0.0949 - accuracy: 0.9650 - recall: 0.9637 - val_loss: 0.1650 - val_accuracy: 0.9474 - val_recall: 0.9413\n",
      "Epoch 42/100\n",
      "77/77 [==============================] - 2s 32ms/step - loss: 0.1016 - accuracy: 0.9633 - recall: 0.9625 - val_loss: 0.1706 - val_accuracy: 0.9413 - val_recall: 0.9377\n",
      "Epoch 43/100\n",
      "77/77 [==============================] - 3s 33ms/step - loss: 0.0917 - accuracy: 0.9674 - recall: 0.9650 - val_loss: 0.1624 - val_accuracy: 0.9438 - val_recall: 0.9425\n",
      "Epoch 44/100\n",
      "77/77 [==============================] - 2s 32ms/step - loss: 0.0964 - accuracy: 0.9650 - recall: 0.9641 - val_loss: 0.1821 - val_accuracy: 0.9413 - val_recall: 0.9401\n",
      "Epoch 45/100\n",
      "77/77 [==============================] - 3s 33ms/step - loss: 0.0906 - accuracy: 0.9682 - recall: 0.9658 - val_loss: 0.1664 - val_accuracy: 0.9450 - val_recall: 0.9450\n",
      "Epoch 46/100\n"
     ]
    },
    {
     "name": "stdout",
     "output_type": "stream",
     "text": [
      "77/77 [==============================] - 2s 30ms/step - loss: 0.0850 - accuracy: 0.9707 - recall: 0.9690 - val_loss: 0.1713 - val_accuracy: 0.9377 - val_recall: 0.9352\n",
      "Epoch 47/100\n",
      "77/77 [==============================] - 2s 31ms/step - loss: 0.0815 - accuracy: 0.9711 - recall: 0.9690 - val_loss: 0.1780 - val_accuracy: 0.9401 - val_recall: 0.9364\n",
      "Epoch 48/100\n",
      "77/77 [==============================] - 2s 30ms/step - loss: 0.0819 - accuracy: 0.9715 - recall: 0.9707 - val_loss: 0.1870 - val_accuracy: 0.9413 - val_recall: 0.9377\n",
      "Epoch 49/100\n",
      "77/77 [==============================] - 2s 30ms/step - loss: 0.0845 - accuracy: 0.9715 - recall: 0.9686 - val_loss: 0.1851 - val_accuracy: 0.9389 - val_recall: 0.9352\n",
      "Epoch 50/100\n",
      "77/77 [==============================] - 2s 30ms/step - loss: 0.0836 - accuracy: 0.9682 - recall: 0.9666 - val_loss: 0.1801 - val_accuracy: 0.9389 - val_recall: 0.9389\n",
      "Epoch 51/100\n",
      "77/77 [==============================] - 2s 30ms/step - loss: 0.0763 - accuracy: 0.9768 - recall: 0.9739 - val_loss: 0.1860 - val_accuracy: 0.9450 - val_recall: 0.9401\n",
      "Epoch 52/100\n",
      "77/77 [==============================] - 2s 31ms/step - loss: 0.0720 - accuracy: 0.9776 - recall: 0.9760 - val_loss: 0.2031 - val_accuracy: 0.9377 - val_recall: 0.9352\n",
      "Epoch 53/100\n",
      "77/77 [==============================] - 2s 31ms/step - loss: 0.0751 - accuracy: 0.9735 - recall: 0.9715 - val_loss: 0.1813 - val_accuracy: 0.9474 - val_recall: 0.9450\n",
      "Epoch 54/100\n",
      "77/77 [==============================] - 2s 30ms/step - loss: 0.0737 - accuracy: 0.9739 - recall: 0.9719 - val_loss: 0.1657 - val_accuracy: 0.9450 - val_recall: 0.9450\n",
      "Epoch 55/100\n",
      "77/77 [==============================] - 2s 30ms/step - loss: 0.0733 - accuracy: 0.9731 - recall: 0.9719 - val_loss: 0.2139 - val_accuracy: 0.9315 - val_recall: 0.9315\n",
      "Epoch 56/100\n",
      "77/77 [==============================] - 2s 30ms/step - loss: 0.0677 - accuracy: 0.9772 - recall: 0.9760 - val_loss: 0.1918 - val_accuracy: 0.9450 - val_recall: 0.9450\n",
      "Epoch 57/100\n",
      "77/77 [==============================] - 2s 30ms/step - loss: 0.0641 - accuracy: 0.9784 - recall: 0.9760 - val_loss: 0.2294 - val_accuracy: 0.9340 - val_recall: 0.9340\n",
      "Epoch 58/100\n",
      "77/77 [==============================] - 2s 30ms/step - loss: 0.0668 - accuracy: 0.9731 - recall: 0.9719 - val_loss: 0.1989 - val_accuracy: 0.9401 - val_recall: 0.9377\n",
      "Epoch 59/100\n",
      "77/77 [==============================] - 2s 30ms/step - loss: 0.0623 - accuracy: 0.9792 - recall: 0.9776 - val_loss: 0.1910 - val_accuracy: 0.9425 - val_recall: 0.9389\n",
      "Epoch 60/100\n",
      "77/77 [==============================] - 2s 31ms/step - loss: 0.0648 - accuracy: 0.9780 - recall: 0.9739 - val_loss: 0.2182 - val_accuracy: 0.9340 - val_recall: 0.9340\n",
      "Epoch 61/100\n",
      "77/77 [==============================] - 2s 30ms/step - loss: 0.0639 - accuracy: 0.9743 - recall: 0.9735 - val_loss: 0.2424 - val_accuracy: 0.9303 - val_recall: 0.9291\n",
      "Epoch 62/100\n",
      "77/77 [==============================] - 2s 31ms/step - loss: 0.0662 - accuracy: 0.9780 - recall: 0.9764 - val_loss: 0.2039 - val_accuracy: 0.9315 - val_recall: 0.9315\n",
      "Epoch 63/100\n",
      "77/77 [==============================] - 2s 31ms/step - loss: 0.0608 - accuracy: 0.9788 - recall: 0.9772 - val_loss: 0.1936 - val_accuracy: 0.9548 - val_recall: 0.9535\n",
      "Epoch 64/100\n",
      "77/77 [==============================] - 2s 30ms/step - loss: 0.0557 - accuracy: 0.9788 - recall: 0.9772 - val_loss: 0.2012 - val_accuracy: 0.9474 - val_recall: 0.9401\n",
      "Epoch 65/100\n",
      "77/77 [==============================] - 2s 31ms/step - loss: 0.0603 - accuracy: 0.9780 - recall: 0.9772 - val_loss: 0.2048 - val_accuracy: 0.9474 - val_recall: 0.9462\n",
      "Epoch 66/100\n",
      "77/77 [==============================] - 2s 30ms/step - loss: 0.0533 - accuracy: 0.9804 - recall: 0.9800 - val_loss: 0.2011 - val_accuracy: 0.9425 - val_recall: 0.9413\n",
      "Epoch 67/100\n",
      "77/77 [==============================] - 2s 31ms/step - loss: 0.0482 - accuracy: 0.9829 - recall: 0.9817 - val_loss: 0.2177 - val_accuracy: 0.9450 - val_recall: 0.9450\n",
      "Epoch 68/100\n",
      "77/77 [==============================] - 3s 33ms/step - loss: 0.0440 - accuracy: 0.9829 - recall: 0.9829 - val_loss: 0.2174 - val_accuracy: 0.9425 - val_recall: 0.9389\n",
      "Epoch 69/100\n",
      "77/77 [==============================] - 2s 30ms/step - loss: 0.0528 - accuracy: 0.9796 - recall: 0.9792 - val_loss: 0.2075 - val_accuracy: 0.9487 - val_recall: 0.9487\n",
      "Epoch 70/100\n",
      "77/77 [==============================] - 3s 34ms/step - loss: 0.0474 - accuracy: 0.9829 - recall: 0.9829 - val_loss: 0.1908 - val_accuracy: 0.9438 - val_recall: 0.9425\n",
      "Epoch 71/100\n",
      "77/77 [==============================] - 3s 33ms/step - loss: 0.0460 - accuracy: 0.9841 - recall: 0.9833 - val_loss: 0.2384 - val_accuracy: 0.9487 - val_recall: 0.9474\n",
      "Epoch 72/100\n",
      "77/77 [==============================] - 2s 32ms/step - loss: 0.0481 - accuracy: 0.9821 - recall: 0.9813 - val_loss: 0.2484 - val_accuracy: 0.9328 - val_recall: 0.9303\n",
      "Epoch 73/100\n",
      "77/77 [==============================] - 3s 33ms/step - loss: 0.0453 - accuracy: 0.9849 - recall: 0.9833 - val_loss: 0.2543 - val_accuracy: 0.9352 - val_recall: 0.9340\n",
      "Epoch 74/100\n",
      "77/77 [==============================] - 3s 34ms/step - loss: 0.0390 - accuracy: 0.9845 - recall: 0.9841 - val_loss: 0.2112 - val_accuracy: 0.9462 - val_recall: 0.9462\n",
      "Epoch 75/100\n",
      "77/77 [==============================] - 3s 33ms/step - loss: 0.0441 - accuracy: 0.9833 - recall: 0.9825 - val_loss: 0.2356 - val_accuracy: 0.9499 - val_recall: 0.9462\n",
      "Epoch 76/100\n",
      "77/77 [==============================] - 2s 32ms/step - loss: 0.0417 - accuracy: 0.9853 - recall: 0.9849 - val_loss: 0.2304 - val_accuracy: 0.9450 - val_recall: 0.9450\n",
      "Epoch 77/100\n",
      "77/77 [==============================] - 2s 32ms/step - loss: 0.0468 - accuracy: 0.9821 - recall: 0.9804 - val_loss: 0.2531 - val_accuracy: 0.9340 - val_recall: 0.9328\n",
      "Epoch 78/100\n",
      "77/77 [==============================] - 2s 32ms/step - loss: 0.0398 - accuracy: 0.9861 - recall: 0.9841 - val_loss: 0.2558 - val_accuracy: 0.9450 - val_recall: 0.9425\n",
      "Epoch 79/100\n",
      "77/77 [==============================] - 2s 32ms/step - loss: 0.0407 - accuracy: 0.9857 - recall: 0.9853 - val_loss: 0.2392 - val_accuracy: 0.9450 - val_recall: 0.9450\n",
      "Epoch 80/100\n",
      "77/77 [==============================] - 2s 32ms/step - loss: 0.0379 - accuracy: 0.9890 - recall: 0.9878 - val_loss: 0.3232 - val_accuracy: 0.9328 - val_recall: 0.9328\n",
      "Epoch 81/100\n",
      "77/77 [==============================] - 2s 31ms/step - loss: 0.0371 - accuracy: 0.9845 - recall: 0.9837 - val_loss: 0.2431 - val_accuracy: 0.9474 - val_recall: 0.9474\n",
      "Epoch 82/100\n",
      "77/77 [==============================] - 3s 34ms/step - loss: 0.0360 - accuracy: 0.9890 - recall: 0.9890 - val_loss: 0.2561 - val_accuracy: 0.9413 - val_recall: 0.9401\n",
      "Epoch 83/100\n",
      "77/77 [==============================] - 2s 32ms/step - loss: 0.0284 - accuracy: 0.9910 - recall: 0.9898 - val_loss: 0.2855 - val_accuracy: 0.9364 - val_recall: 0.9340\n",
      "Epoch 84/100\n",
      "77/77 [==============================] - 3s 34ms/step - loss: 0.0319 - accuracy: 0.9902 - recall: 0.9894 - val_loss: 0.2780 - val_accuracy: 0.9413 - val_recall: 0.9401\n",
      "Epoch 85/100\n",
      "77/77 [==============================] - 2s 32ms/step - loss: 0.0312 - accuracy: 0.9894 - recall: 0.9894 - val_loss: 0.3062 - val_accuracy: 0.9364 - val_recall: 0.9340\n",
      "Epoch 86/100\n",
      "77/77 [==============================] - 3s 33ms/step - loss: 0.0274 - accuracy: 0.9927 - recall: 0.9914 - val_loss: 0.2790 - val_accuracy: 0.9389 - val_recall: 0.9377\n",
      "Epoch 87/100\n",
      "77/77 [==============================] - 3s 33ms/step - loss: 0.0298 - accuracy: 0.9898 - recall: 0.9890 - val_loss: 0.2962 - val_accuracy: 0.9377 - val_recall: 0.9352\n",
      "Epoch 88/100\n",
      "77/77 [==============================] - 2s 32ms/step - loss: 0.0361 - accuracy: 0.9890 - recall: 0.9886 - val_loss: 0.3094 - val_accuracy: 0.9352 - val_recall: 0.9352\n",
      "Epoch 89/100\n",
      "77/77 [==============================] - 3s 33ms/step - loss: 0.0337 - accuracy: 0.9882 - recall: 0.9878 - val_loss: 0.3002 - val_accuracy: 0.9413 - val_recall: 0.9401\n",
      "Epoch 90/100\n",
      "77/77 [==============================] - 3s 32ms/step - loss: 0.0286 - accuracy: 0.9902 - recall: 0.9886 - val_loss: 0.3210 - val_accuracy: 0.9413 - val_recall: 0.9401\n",
      "Epoch 91/100\n"
     ]
    },
    {
     "name": "stdout",
     "output_type": "stream",
     "text": [
      "77/77 [==============================] - 2s 31ms/step - loss: 0.0326 - accuracy: 0.9886 - recall: 0.9882 - val_loss: 0.3709 - val_accuracy: 0.9377 - val_recall: 0.9377\n",
      "Epoch 92/100\n",
      "77/77 [==============================] - 2s 31ms/step - loss: 0.0239 - accuracy: 0.9935 - recall: 0.9931 - val_loss: 0.2579 - val_accuracy: 0.9438 - val_recall: 0.9438\n",
      "Epoch 93/100\n",
      "77/77 [==============================] - 3s 33ms/step - loss: 0.0233 - accuracy: 0.9919 - recall: 0.9919 - val_loss: 0.3221 - val_accuracy: 0.9425 - val_recall: 0.9413\n",
      "Epoch 94/100\n",
      "77/77 [==============================] - 3s 36ms/step - loss: 0.0214 - accuracy: 0.9951 - recall: 0.9947 - val_loss: 0.3083 - val_accuracy: 0.9438 - val_recall: 0.9413\n",
      "Epoch 95/100\n",
      "77/77 [==============================] - 2s 32ms/step - loss: 0.0242 - accuracy: 0.9914 - recall: 0.9914 - val_loss: 0.3146 - val_accuracy: 0.9425 - val_recall: 0.9413\n",
      "Epoch 96/100\n",
      "77/77 [==============================] - 2s 32ms/step - loss: 0.0254 - accuracy: 0.9910 - recall: 0.9902 - val_loss: 0.2995 - val_accuracy: 0.9487 - val_recall: 0.9474\n",
      "Epoch 97/100\n",
      "77/77 [==============================] - 2s 32ms/step - loss: 0.0203 - accuracy: 0.9947 - recall: 0.9947 - val_loss: 0.2889 - val_accuracy: 0.9487 - val_recall: 0.9487\n",
      "Epoch 98/100\n",
      "77/77 [==============================] - 3s 34ms/step - loss: 0.0221 - accuracy: 0.9931 - recall: 0.9927 - val_loss: 0.3409 - val_accuracy: 0.9401 - val_recall: 0.9401\n",
      "Epoch 99/100\n",
      "77/77 [==============================] - 3s 32ms/step - loss: 0.0212 - accuracy: 0.9943 - recall: 0.9935 - val_loss: 0.3482 - val_accuracy: 0.9413 - val_recall: 0.9401\n",
      "Epoch 100/100\n",
      "77/77 [==============================] - 2s 32ms/step - loss: 0.0160 - accuracy: 0.9955 - recall: 0.9955 - val_loss: 0.3465 - val_accuracy: 0.9401 - val_recall: 0.9401\n"
     ]
    }
   ],
   "source": [
    "history = model.fit(train_generator, \n",
    "                    epochs = 100, \n",
    "                    steps_per_epoch = len(train_generator), \n",
    "                    validation_data = valid_generator, \n",
    "                    validation_steps = len(valid_generator)\n",
    "                   )"
   ]
  },
  {
   "cell_type": "code",
   "execution_count": 23,
   "id": "7aea1690",
   "metadata": {
    "execution": {
     "iopub.execute_input": "2021-10-06T08:36:09.548320Z",
     "iopub.status.busy": "2021-10-06T08:36:09.547334Z",
     "iopub.status.idle": "2021-10-06T08:36:09.563353Z",
     "shell.execute_reply": "2021-10-06T08:36:09.563865Z",
     "shell.execute_reply.started": "2021-09-05T11:33:48.238699Z"
    },
    "papermill": {
     "duration": 0.21457,
     "end_time": "2021-10-06T08:36:09.564041",
     "exception": false,
     "start_time": "2021-10-06T08:36:09.349471",
     "status": "completed"
    },
    "tags": []
   },
   "outputs": [
    {
     "data": {
      "text/html": [
       "<div>\n",
       "<style scoped>\n",
       "    .dataframe tbody tr th:only-of-type {\n",
       "        vertical-align: middle;\n",
       "    }\n",
       "\n",
       "    .dataframe tbody tr th {\n",
       "        vertical-align: top;\n",
       "    }\n",
       "\n",
       "    .dataframe thead th {\n",
       "        text-align: right;\n",
       "    }\n",
       "</style>\n",
       "<table border=\"1\" class=\"dataframe\">\n",
       "  <thead>\n",
       "    <tr style=\"text-align: right;\">\n",
       "      <th></th>\n",
       "      <th>loss</th>\n",
       "      <th>accuracy</th>\n",
       "      <th>recall</th>\n",
       "      <th>val_loss</th>\n",
       "      <th>val_accuracy</th>\n",
       "      <th>val_recall</th>\n",
       "    </tr>\n",
       "  </thead>\n",
       "  <tbody>\n",
       "    <tr>\n",
       "      <th>0</th>\n",
       "      <td>0.691451</td>\n",
       "      <td>0.765689</td>\n",
       "      <td>0.594947</td>\n",
       "      <td>0.527272</td>\n",
       "      <td>0.808068</td>\n",
       "      <td>0.799511</td>\n",
       "    </tr>\n",
       "    <tr>\n",
       "      <th>1</th>\n",
       "      <td>0.509736</td>\n",
       "      <td>0.810921</td>\n",
       "      <td>0.803586</td>\n",
       "      <td>0.498390</td>\n",
       "      <td>0.808068</td>\n",
       "      <td>0.806846</td>\n",
       "    </tr>\n",
       "    <tr>\n",
       "      <th>2</th>\n",
       "      <td>0.432400</td>\n",
       "      <td>0.811736</td>\n",
       "      <td>0.808068</td>\n",
       "      <td>0.377940</td>\n",
       "      <td>0.816626</td>\n",
       "      <td>0.798289</td>\n",
       "    </tr>\n",
       "    <tr>\n",
       "      <th>3</th>\n",
       "      <td>0.301938</td>\n",
       "      <td>0.907905</td>\n",
       "      <td>0.867563</td>\n",
       "      <td>0.276376</td>\n",
       "      <td>0.915648</td>\n",
       "      <td>0.905868</td>\n",
       "    </tr>\n",
       "    <tr>\n",
       "      <th>4</th>\n",
       "      <td>0.245590</td>\n",
       "      <td>0.921353</td>\n",
       "      <td>0.912795</td>\n",
       "      <td>0.264163</td>\n",
       "      <td>0.918093</td>\n",
       "      <td>0.913203</td>\n",
       "    </tr>\n",
       "    <tr>\n",
       "      <th>...</th>\n",
       "      <td>...</td>\n",
       "      <td>...</td>\n",
       "      <td>...</td>\n",
       "      <td>...</td>\n",
       "      <td>...</td>\n",
       "      <td>...</td>\n",
       "    </tr>\n",
       "    <tr>\n",
       "      <th>95</th>\n",
       "      <td>0.025404</td>\n",
       "      <td>0.991035</td>\n",
       "      <td>0.990220</td>\n",
       "      <td>0.299451</td>\n",
       "      <td>0.948655</td>\n",
       "      <td>0.947433</td>\n",
       "    </tr>\n",
       "    <tr>\n",
       "      <th>96</th>\n",
       "      <td>0.020277</td>\n",
       "      <td>0.994703</td>\n",
       "      <td>0.994703</td>\n",
       "      <td>0.288883</td>\n",
       "      <td>0.948655</td>\n",
       "      <td>0.948655</td>\n",
       "    </tr>\n",
       "    <tr>\n",
       "      <th>97</th>\n",
       "      <td>0.022101</td>\n",
       "      <td>0.993073</td>\n",
       "      <td>0.992665</td>\n",
       "      <td>0.340917</td>\n",
       "      <td>0.940098</td>\n",
       "      <td>0.940098</td>\n",
       "    </tr>\n",
       "    <tr>\n",
       "      <th>98</th>\n",
       "      <td>0.021161</td>\n",
       "      <td>0.994295</td>\n",
       "      <td>0.993480</td>\n",
       "      <td>0.348214</td>\n",
       "      <td>0.941320</td>\n",
       "      <td>0.940098</td>\n",
       "    </tr>\n",
       "    <tr>\n",
       "      <th>99</th>\n",
       "      <td>0.016044</td>\n",
       "      <td>0.995518</td>\n",
       "      <td>0.995518</td>\n",
       "      <td>0.346488</td>\n",
       "      <td>0.940098</td>\n",
       "      <td>0.940098</td>\n",
       "    </tr>\n",
       "  </tbody>\n",
       "</table>\n",
       "<p>100 rows × 6 columns</p>\n",
       "</div>"
      ],
      "text/plain": [
       "        loss  accuracy    recall  val_loss  val_accuracy  val_recall\n",
       "0   0.691451  0.765689  0.594947  0.527272      0.808068    0.799511\n",
       "1   0.509736  0.810921  0.803586  0.498390      0.808068    0.806846\n",
       "2   0.432400  0.811736  0.808068  0.377940      0.816626    0.798289\n",
       "3   0.301938  0.907905  0.867563  0.276376      0.915648    0.905868\n",
       "4   0.245590  0.921353  0.912795  0.264163      0.918093    0.913203\n",
       "..       ...       ...       ...       ...           ...         ...\n",
       "95  0.025404  0.991035  0.990220  0.299451      0.948655    0.947433\n",
       "96  0.020277  0.994703  0.994703  0.288883      0.948655    0.948655\n",
       "97  0.022101  0.993073  0.992665  0.340917      0.940098    0.940098\n",
       "98  0.021161  0.994295  0.993480  0.348214      0.941320    0.940098\n",
       "99  0.016044  0.995518  0.995518  0.346488      0.940098    0.940098\n",
       "\n",
       "[100 rows x 6 columns]"
      ]
     },
     "execution_count": 23,
     "metadata": {},
     "output_type": "execute_result"
    }
   ],
   "source": [
    "result = pd.DataFrame(history.history)\n",
    "result"
   ]
  },
  {
   "cell_type": "code",
   "execution_count": 24,
   "id": "43e5843a",
   "metadata": {
    "execution": {
     "iopub.execute_input": "2021-10-06T08:36:09.958617Z",
     "iopub.status.busy": "2021-10-06T08:36:09.957688Z",
     "iopub.status.idle": "2021-10-06T08:36:10.211066Z",
     "shell.execute_reply": "2021-10-06T08:36:10.211643Z",
     "shell.execute_reply.started": "2021-09-05T11:33:48.259118Z"
    },
    "papermill": {
     "duration": 0.451636,
     "end_time": "2021-10-06T08:36:10.211808",
     "exception": false,
     "start_time": "2021-10-06T08:36:09.760172",
     "status": "completed"
    },
    "tags": []
   },
   "outputs": [
    {
     "data": {
      "text/plain": [
       "<AxesSubplot:>"
      ]
     },
     "execution_count": 24,
     "metadata": {},
     "output_type": "execute_result"
    },
    {
     "data": {
      "image/png": "[encoded data removed]",
      "text/plain": [
       "<Figure size 576x396 with 1 Axes>"
      ]
     },
     "metadata": {},
     "output_type": "display_data"
    }
   ],
   "source": [
    "result.plot()"
   ]
  },
  {
   "cell_type": "code",
   "execution_count": 25,
   "id": "d30b52a8",
   "metadata": {},
   "outputs": [
    {
     "data": {
      "image/png": "[encoded data removed]",
      "text/plain": [
       "<Figure size 1224x576 with 3 Axes>"
      ]
     },
     "metadata": {},
     "output_type": "display_data"
    }
   ],
   "source": [
    "def plot_line(result, ax, col, title, train_column, valid_column):\n",
    "    # Line Plot of Model Performance\n",
    "    ax[col].plot(result[train_column])\n",
    "    ax[col].plot(result[valid_column])\n",
    "    \n",
    "    # Title and Legend\n",
    "    ax[col].set_title(title, fontweight = 'bold')\n",
    "    ax[col].legend(['Train', 'Validation'])\n",
    "    \n",
    "# Create a 1x3 Grid and Set Main Title\n",
    "fig, ax = plt.subplots(nrows = 1, ncols = 3, figsize = (17, 8))\n",
    "fig.suptitle('Model Performance', fontsize = 20, fontweight = 'bold')\n",
    "\n",
    "# Visualization of Accuracy, Recall, and Loss\n",
    "plot_line(result, ax, 0, 'Accuracy', 'accuracy', 'val_accuracy')\n",
    "plot_line(result, ax, 1, 'Recall', 'recall', 'val_recall')\n",
    "plot_line(result, ax, 2, 'Loss', 'loss', 'val_loss')\n",
    "plt.show()"
   ]
  },
  {
   "cell_type": "code",
   "execution_count": 26,
   "id": "b59dda41",
   "metadata": {},
   "outputs": [
    {
     "name": "stdout",
     "output_type": "stream",
     "text": [
      "25/25 [==============================] - 4s 164ms/step - loss: 0.4546 - accuracy: 0.9200 - recall: 0.9200\n"
     ]
    },
    {
     "data": {
      "text/plain": [
       "[0.4546446204185486, 0.9200000166893005, 0.9200000166893005]"
      ]
     },
     "execution_count": 26,
     "metadata": {},
     "output_type": "execute_result"
    }
   ],
   "source": [
    "model.evaluate(test_generator)"
   ]
  },
  {
   "cell_type": "markdown",
   "id": "9bc49713",
   "metadata": {},
   "source": [
    "# 7. Saving the Trained Model Locally\n",
    "<br>"
   ]
  },
  {
   "cell_type": "code",
   "execution_count": 27,
   "id": "c91bd4d6",
   "metadata": {},
   "outputs": [],
   "source": [
    "model.save('_Trainned-CNN-Model/cnn-Face-Mask.h5')"
   ]
  },
  {
   "cell_type": "code",
   "execution_count": null,
   "id": "0e8f6103",
   "metadata": {},
   "outputs": [],
   "source": []
  },
  {
   "cell_type": "code",
   "execution_count": null,
   "id": "8c2783f4",
   "metadata": {},
   "outputs": [],
   "source": []
  }
 ],
 "metadata": {
  "kernelspec": {
   "display_name": "Python 3 (ipykernel)",
   "language": "python",
   "name": "python3"
  },
  "language_info": {
   "codemirror_mode": {
    "name": "ipython",
    "version": 3
   },
   "file_extension": ".py",
   "mimetype": "text/x-python",
   "name": "python",
   "nbconvert_exporter": "python",
   "pygments_lexer": "ipython3",
   "version": "3.9.7"
  },
  "papermill": {
   "default_parameters": {},
   "duration": 161.030113,
   "end_time": "2021-10-06T08:36:27.777139",
   "environment_variables": {},
   "exception": null,
   "input_path": "__notebook__.ipynb",
   "output_path": "__notebook__.ipynb",
   "parameters": {},
   "start_time": "2021-10-06T08:33:46.747026",
   "version": "2.3.3"
  }
 },
 "nbformat": 4,
 "nbformat_minor": 5
}
